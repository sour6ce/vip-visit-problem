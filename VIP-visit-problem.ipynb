{
 "cells": [
  {
   "attachments": {},
   "cell_type": "markdown",
   "metadata": {},
   "source": [
    "# Segundo problema de DAA:Lázaro presidente del PCC\n",
    "*Equipo: pss pss | Gabriel Hernández Rodríguez C411*"
   ]
  },
  {
   "attachments": {},
   "cell_type": "markdown",
   "metadata": {},
   "source": [
    "## Texto Original\n"
   ]
  },
  {
   "cell_type": "markdown",
   "metadata": {},
   "source": [
    "\n",
    "Han pasado 20 años desde que Lázaro se graduó de Ciencias de la Computación (haciendo una muy buena tesis) y las vueltas de la vida lo llevaron a convertirse en el presidente del Partido Comunista de Cuba. Una de sus muchas responsabilidades consiste en visitar zonas remotas. En esta ocasión debe visitar una ciudad campestre de Pinar del Río.\n",
    "\n",
    "También han pasado 20 años desde que Marié consiguió su título en MATCOM. Tras años de viaje por las grandes metrópolis del mundo, en algún punto decidió que prefería vivir una vida tranquila, aislada de la urbanización, en una tranquila ciudad de Pinar del Río. Las vueltas de la vida quisieron que precisamente Marié fuera la única universitaria habitando la ciudad que Lázaro se dispone a visitar.\n",
    "\n",
    "Los habitantes de la zona entraron en pánico ante la visita de una figura tan importante y decidieron reparar las calles de la ciudad por las que transitaría Lázaro. El problema está en que nadie sabía qué ruta tomaría el presidente y decidieron pedirle ayuda a Marié.\n",
    "\n",
    "La ciudad tiene $n$ puntos importantes, unidos entre sí por calles cuyos tamaños se conoce. Se sabe que Lázaro comenzará en alguno de esos puntos ($s$) y terminará el viaje en otro ($t$). Los ciudadanos quieren saber, para cada par $<s,t>$, cuántas calles participan en algún camino de distancia mínima entre $s$ y $t$."
   ]
  },
  {
   "attachments": {},
   "cell_type": "markdown",
   "metadata": {},
   "source": [
    "## Orientación Concreta\n"
   ]
  },
  {
   "cell_type": "markdown",
   "metadata": {},
   "source": [
    "\n",
    "Dado un grafo $G=<V,E>$, una función de peso $w(e)$ con dominio $E \\rightarrow R$ y una serie de consultas $Q$ de la forma $<s,t>$. Determinar para cada consulta la cantidad de aristas que pertenecen a al menos un camino mínimo de $s$ a $t$."
   ]
  },
  {
   "attachments": {},
   "cell_type": "markdown",
   "metadata": {},
   "source": [
    "## Solución Propuesta"
   ]
  },
  {
   "attachments": {},
   "cell_type": "markdown",
   "metadata": {},
   "source": [
    "\n",
    "### Resumen\n"
   ]
  },
  {
   "attachments": {},
   "cell_type": "markdown",
   "metadata": {},
   "source": [
    "\n",
    "La solución propuesta consiste en contar el número de aristas que forman parte del camino mínimo entre dos nodos dados en un grafo no dirigido, siguiendo los siguientes pasos:\n",
    "1. Calcular las distancias mínimas utilizando el algoritmo de Dijkstra o Floyd-Warshall, dependiendo de la densidad del grafo.\n",
    "2. Recorrer todas las aristas del grafo y contar las que cumplen que las distancias de $s$ a ella y de ella hasta $t$ suman la distancia mínima de $s$ a $t$ por cada una de las consultas.\n"
   ]
  },
  {
   "attachments": {},
   "cell_type": "markdown",
   "metadata": {},
   "source": [
    "\n",
    "### Detalle\n"
   ]
  },
  {
   "attachments": {},
   "cell_type": "markdown",
   "metadata": {},
   "source": [
    "\n",
    "Para resolver el problema de contar el número de aristas que forman parte del camino mínimo entre dos nodos $s$ y $t$ en un grafo no dirigido $G=<V,E>$ con función de peso $w$, se puede seguir el siguiente procedimiento:\n",
    "\n",
    "1. Cálculo de distancias mínimas: Para comprobar si una arista forma parte del camino mínimo, es necesario calcular la distancia mínima entre dos nodos cualesquiera del grafo. Para ello se utiliza el algoritmo de Dijkstra o el de Floyd-Warshall, dependiendo de la densidad del grafo.\n",
    "\n",
    "- Algoritmo de Dijkstra: Este algoritmo es preferible para grafos dispersos, ya que tiene una complejidad temporal de $O((|V|+|E|)log|V|)$.\n",
    "\n",
    "- Algoritmo de Floyd-Warshall: Este algoritmo es preferible para grafos densos, ya que tiene una complejidad temporal de O(|V|^3).\n",
    "\n",
    "2. Recuento de aristas: Se recorren todas las aristas del grafo y se cuentan las que cumplen alguna de las condiciones siguientes. El recuento total proporciona el número de aristas que forman parte del camino mínimo entre $s$ y $t$.\n",
    "\n",
    "3. Comprobación de las condiciones de las aristas: Una vez que se han calculado las distancias mínimas entre todos los pares de nodos, se pueden comprobar las siguientes condiciones para cada arista por cada par $<s,t>$ en las consultas:\n",
    "\n",
    "- Si $d(s,u)+w(e)+d(v,t)=d(s,t)$, entonces la arista $e$ forma parte del camino mínimo de $s$ a $t$.\n",
    "\n",
    "    Dados dos nodos $s$ y $t$ de un grafo no dirigido $G=<V,E>$ con función de peso $w$ y una arista $e={u,v}$ y sea $d(a,b)$ la distancia mínima entre dos nodos $a$ y $b$ del grafo G. Si: $d(s,u)+w(e)+d(v,t)=d(s,t)$ entonces se toma $P_1=<s,w_1,...,w_n,u>$ un camino de distancia mínima desde $s$ hasta $u$ y un camino $P_2=<v,z_1,...,z_n,>$ de distancia mínima desde $v$ hasta $t$ entonces el camino $P'=<s,w_1,...,w_n,u,v,z_1,...,z_n,t>$ es un camino de distancia $d(s,t)$ y por tanto un camino de distancia mínima de $s$ a $t$ donde la arista $e$ está incluida.\n",
    "\n",
    "- Del mismo modo, si $d(s,v)+w(e)+d(u,t)=d(s,t)$, entonces la arista $e$ también forma parte del camino mínimo. Se puede demostrar de forma análoga a la anterior.\n",
    "\n",
    "\n",
    "Para calcular el valor de la función $d$, se puede utilizar una matriz con los valores almacenados previamente. En grafos más densos, la complejidad temporal del algoritmo de Dijkstra es peor que la del algoritmo de Floyd-Warshall. La complejidad temporal de una implementación clásica de Dijkstra es:\n",
    "$$O((|V|+|E|)log|V|)$$\n",
    "Si se utiliza para calcular la distancia de todos los nodos hacia todos los nodos, entonces la complejidad temporal es:\n",
    "$$O((|V|+|E|)|V|log|V|)$$\n",
    "En caso de que se ejecutara sobre un grafo denso donde $|E|=O(|V|^2)$, entonces el cálculo de distancia pasa a ser:\n",
    "$$O((|V|+|V|^2)|V|log|V|)=O(|V|^3)log|V|$$\n",
    "Por otra parte, la complejidad temporal del algoritmo de Floyd-Warshall es $O(|V|^3)$. Si se evalúa bajo qué condiciones la complejidad de Dijkstra es peor que la de Floyd-Warshall, se puede determinar el punto en que sea preferible cambiar de algoritmo. La condición se cumple si:\n",
    "$$|E| > |V|(\\frac{|V|}{log|V|}-1)$$\n",
    "Entonces, si se cumple esta condición se utiliza el algoritmo de Floyd-Warshall para calcular las distancias entre los nodos; en otro caso, se utiliza el algoritmo de Dijkstra."
   ]
  },
  {
   "attachments": {},
   "cell_type": "markdown",
   "metadata": {},
   "source": [
    "### Código"
   ]
  },
  {
   "cell_type": "code",
   "execution_count": 1,
   "metadata": {},
   "outputs": [],
   "source": [
    "# Aquí está todo el código ajeno a las soluciones\n",
    "from common import *"
   ]
  },
  {
   "cell_type": "code",
   "execution_count": 2,
   "metadata": {},
   "outputs": [],
   "source": [
    "# Código de Solución Propuesta\n",
    "\n",
    "def solve(p_in:ProblemInput):\n",
    "    # Calcula la matriz de distancias entre los nodos usando el\n",
    "    # algoritmo de Floyd-Warshall para grafos densos o el Dijkstra.\n",
    "    #\n",
    "    # Complejidad temporal: O(min(O(|V|^3),O((|V|+|E|)|V|log|V|))\n",
    "    d=p_in.calculate_distances()\n",
    "\n",
    "    r=[]\n",
    "\n",
    "    # Se procesa cada consulta de forma independiente. En cada consulta\n",
    "    # se evalúa cada arista del grafo si pertenece a un camino mínimo.\n",
    "    #\n",
    "    # Complejidad temporal: O(q*|E|)\n",
    "    for s,t in p_in.queries:\n",
    "        c_e=0\n",
    "        for e in p_in.edge_list:\n",
    "            # Una arista e={u,v} pertenece a un camino mínimo si y solo si\n",
    "            # d(s,u)+w(e)+d(v,t)=d(s,t) ó d(s,v)+w(e)+d(u,t)=d(s,t). Donde\n",
    "            # d(i,j) se define como la distancia mínima desde el nodo i hasta\n",
    "            # el nodo j y w(e) se define como el peso de la arista e.\n",
    "\n",
    "            # Primera Condición\n",
    "            if d[s][e[0]]+e[2]+d[e[1]][t]==d[s][t]:\n",
    "                c_e+=1\n",
    "                \n",
    "            # Segunda Condición\n",
    "            if d[s][e[1]]+e[2]+d[e[0]][t]==d[s][t]:\n",
    "                c_e+=1\n",
    "        yield c_e\n"
   ]
  },
  {
   "cell_type": "code",
   "execution_count": 3,
   "metadata": {},
   "outputs": [
    {
     "data": {
      "text/plain": [
       "array([[  0.,   2.,   6.,  10.,  42.,  70.],\n",
       "       [  2.,   0.,   8.,   8.,  40.,  72.],\n",
       "       [  6.,   8.,   0.,  16.,  48.,  64.],\n",
       "       [ 10.,   8.,  16.,   0.,  32.,  80.],\n",
       "       [ 42.,  40.,  48.,  32.,   0., 112.],\n",
       "       [ 70.,  72.,  64.,  80., 112.,   0.]])"
      ]
     },
     "execution_count": 3,
     "metadata": {},
     "output_type": "execute_result"
    }
   ],
   "source": [
    "# Pruebas rápidas del código de la solución\n",
    "\n",
    "# Test1\n",
    "p_in = ProblemInput([\n",
    "    Edge(0, 1, 2),\n",
    "    Edge(0, 2, 2),\n",
    "    Edge(1, 3, 2),\n",
    "    Edge(2, 3, 2),\n",
    "    Edge(3, 4, 2),\n",
    "    Edge(2, 5, 2)\n",
    "], [\n",
    "    Query(0, 3),\n",
    "    Query(5, 1),\n",
    "    Query(4, 5)\n",
    "])\n",
    "\n",
    "r = list(solve(p_in))\n",
    "assert r[0] == 4\n",
    "assert r[1] == 5\n",
    "assert r[2] == 3\n",
    "#\n",
    "\n",
    "# Test2\n",
    "p_in = ProblemInput([\n",
    "    Edge(0, 1, 2),\n",
    "    Edge(0, 2, 6),\n",
    "    Edge(1, 3, 8),\n",
    "    Edge(2, 3, 16),\n",
    "    Edge(3, 4, 32),\n",
    "    Edge(2, 5, 64)\n",
    "], [\n",
    "    Query(0, 3),\n",
    "    Query(5, 1),\n",
    "    Query(4, 5)\n",
    "])\n",
    "r = list(solve(p_in))\n",
    "assert r[0] == 2\n",
    "assert r[1] == 3\n",
    "assert r[2] == 6\n",
    "#\n",
    "\n",
    "p_in.calculate_distances()\n"
   ]
  },
  {
   "attachments": {},
   "cell_type": "markdown",
   "metadata": {},
   "source": [
    "### Complejidad Temporal\n"
   ]
  },
  {
   "cell_type": "markdown",
   "metadata": {},
   "source": [
    "\n",
    "Recorriendo cada uno de los pasos de la solución:\n",
    "1. Cálculo de distancias: se utiliza un algoritmo u otro en dependencia del que menor cota tenga, por tanto es trivial pensar que la complejidad temporal de este paso es $O$ de el mínimo entre los dos algoritmos utilizados: $O(min(|V|^3,(|V|+|E|)|V|log|V|))$\n",
    "2. Ciclo por cada consulta: Se resuelve el valor de cada consulta por separado por tanto la complejidad de este proceso es $O(|Q|)$ multiplicado por la complejidad de solucionar cada consulta.\n",
    "   - La solución de cada consulta es recorriendo cada una de las aristas ($O(|E|)$) y comprobando dos igualdades ($O(1)$). Por tanto todo este proceso es $O(|Q||E|)$\n",
    "\n",
    "Por tanto la complejidad temporal final de la solución es $O(min(|V|^3\\space,\\space (|V|+|E|)|V|log|V|\\space,\\space|Q||E|))$"
   ]
  },
  {
   "cell_type": "markdown",
   "metadata": {},
   "source": [
    "## Solución de Fuerza Bruta"
   ]
  },
  {
   "attachments": {},
   "cell_type": "markdown",
   "metadata": {},
   "source": [
    "### Resumen"
   ]
  },
  {
   "attachments": {},
   "cell_type": "markdown",
   "metadata": {},
   "source": [
    "Para probar esta solución se creo una solución por fuerza bruta que se basa en construir todos los caminos posibles que parten desde un nodo $s$ y registrar las aristas que participen en al menos uno de los caminos construidos que terminan en $t$ y son de distancia $d(s,t)$.\n",
    "\n",
    "En esta solución se utiliza también un algoritmo de cálculo de distancias previamente implementado, Floyd-Warshall específicamente."
   ]
  },
  {
   "attachments": {},
   "cell_type": "markdown",
   "metadata": {},
   "source": [
    "### Detalle\n",
    "\n",
    "Luego de precalcular las distancias de un nodo a otro con Floyd-Warshall se comienza en el nodo $s$ a construir todos los caminos que parten de este. Se construyen entonces todos los caminos que parten de los hijos de $s$ y se les adiciona este al principio para así encontrar todos los caminos posibles. Las condiciones de parada son:\n",
    "1. Si se llega a un nodo cuyos hijos están todos en el recorrido. Los nodos en el recorrido se llevan en un set.\n",
    "2. Si la distancia hasta el momento es mayor que $d(s,t)$. Se va guardando la distancia hasta el momento en el recorrido.\n",
    "3. Si el último nodo del recorrido es $t$.\n",
    "4. Un caso especial en el que el último nodo es $t$ y la distancia hasta el momento es exactamente $d$, significa que este es un camino mínimo. Si las aristas en el recorrido se van guardando entonces podemos construir un conjunto de aristas incluyendo todas las que se encontraban en este camino.\n",
    "\n",
    "Para ir registrando las aristas se va llevando un conjunto(`set`) el cual cada vez que se llega a la condición de parada 4 en un camino se amplia con las aristas de este camino.\n",
    "\n",
    "La respuesta del algoritmo a cada consulta es la cardinalidad de este conjunto."
   ]
  },
  {
   "cell_type": "code",
   "execution_count": 4,
   "metadata": {},
   "outputs": [],
   "source": [
    "# Solución por fuerza bruta\n",
    "\n",
    "def brute_solve(p_in: ProblemInput):\n",
    "    # Calcula la matriz de distancias entre los nodos usando el\n",
    "    # algoritmo de Floyd-Warshall.\n",
    "    #\n",
    "    # Complejidad temporal: O(|V|^3)\n",
    "    d=floyd_warshall(p_in.matrix,directed=False,overwrite=False)\n",
    "\n",
    "    def inner_solve(first_node:int, last_node:int, current_node:int, node_set: Set[int], edge_set: Set[Edge], distance=0)->Set[Edge]:\n",
    "        min_d=d[first_node][last_node]\n",
    "\n",
    "        r=set() # En caso de que al pasar por cada uno de los nodos del ciclo siguiente se omitan todos, se devuelve un conjunto vacío\n",
    "\n",
    "        for i,n in enumerate(p_in.matrix[current_node]):\n",
    "            # No hay aristas entre los nodos o es él mismo\n",
    "            if i==current_node or n==0:\n",
    "                continue\n",
    "\n",
    "            # Si ya este nodo estaba en el camino\n",
    "            if i in node_set:\n",
    "                continue\n",
    "\n",
    "            new_distance = distance+n\n",
    "\n",
    "            # La nueva distancia es superior a la distancia mínima de s a t\n",
    "            if new_distance > min_d:\n",
    "                continue\n",
    "\n",
    "            new_current_node=i\n",
    "            new_current_edge=Edge(min(current_node,i),max(current_node,i),n)\n",
    "\n",
    "            # Si justo este nodo es t y constituye un camino mínimo hasta este\n",
    "            if new_current_node == last_node and min_d == new_distance:\n",
    "                r.update(edge_set)\n",
    "                r.add(new_current_edge)\n",
    "                continue\n",
    "            # Si este nodo es t pero no es un camino mínimo\n",
    "            elif new_current_node == last_node:\n",
    "                continue\n",
    "\n",
    "            # En otro caso a continuar la recursión\n",
    "            node_set.add(new_current_node)\n",
    "            edge_set.add(new_current_edge)\n",
    "\n",
    "            r.update(inner_solve(\n",
    "                first_node=first_node,\n",
    "                last_node=last_node,\n",
    "                current_node=new_current_node,\n",
    "                node_set=node_set,\n",
    "                edge_set=edge_set,\n",
    "                distance=new_distance\n",
    "            ))\n",
    "\n",
    "            # Undo the last adding to set to keep working with it\n",
    "            node_set.remove(new_current_node)\n",
    "            edge_set.remove(new_current_edge)\n",
    "\n",
    "        # Return the unique edges in all minimum distances path\n",
    "        return r\n",
    "\n",
    "    for q in p_in.queries:\n",
    "        # For each query yield the result\n",
    "        yield len(inner_solve(q.s,q.t,q.s,{q.s},set(),0))\n",
    "\n"
   ]
  },
  {
   "cell_type": "code",
   "execution_count": 5,
   "metadata": {},
   "outputs": [
    {
     "data": {
      "text/plain": [
       "array([[  0.,   2.,   6.,  10.,  42.,  70.],\n",
       "       [  2.,   0.,   8.,   8.,  40.,  72.],\n",
       "       [  6.,   8.,   0.,  16.,  48.,  64.],\n",
       "       [ 10.,   8.,  16.,   0.,  32.,  80.],\n",
       "       [ 42.,  40.,  48.,  32.,   0., 112.],\n",
       "       [ 70.,  72.,  64.,  80., 112.,   0.]])"
      ]
     },
     "execution_count": 5,
     "metadata": {},
     "output_type": "execute_result"
    }
   ],
   "source": [
    "# Pruebas rápidas a la solución por fuerza bruta\n",
    "\n",
    "# Test3\n",
    "p_in = ProblemInput([\n",
    "    Edge(0, 1, 2),\n",
    "    Edge(0, 2, 2),\n",
    "    Edge(1, 3, 2),\n",
    "    Edge(2, 3, 2),\n",
    "    Edge(3, 4, 2),\n",
    "    Edge(2, 5, 2)\n",
    "], [\n",
    "    Query(0, 3),\n",
    "    Query(5, 1),\n",
    "    Query(4, 5)\n",
    "])\n",
    "\n",
    "r = list(brute_solve(p_in))\n",
    "assert r[0] == 4\n",
    "assert r[1] == 5\n",
    "assert r[2] == 3\n",
    "#\n",
    "\n",
    "# Test4\n",
    "p_in = ProblemInput([\n",
    "    Edge(0, 1, 2),\n",
    "    Edge(0, 2, 6),\n",
    "    Edge(1, 3, 8),\n",
    "    Edge(2, 3, 16),\n",
    "    Edge(3, 4, 32),\n",
    "    Edge(2, 5, 64)\n",
    "], [\n",
    "    Query(0, 3),\n",
    "    Query(5, 1),\n",
    "    Query(4, 5)\n",
    "])\n",
    "r = list(brute_solve(p_in))\n",
    "assert r[0] == 2\n",
    "assert r[1] == 3\n",
    "assert r[2] == 6\n",
    "#\n",
    "\n",
    "p_in.calculate_distances()\n"
   ]
  },
  {
   "attachments": {},
   "cell_type": "markdown",
   "metadata": {},
   "source": [
    "## Generación de casos de prueba para testing"
   ]
  },
  {
   "attachments": {},
   "cell_type": "markdown",
   "metadata": {},
   "source": [
    "Se decidieron generar casos principalmente de grafos conexos ya que se vio más interesante y natural al problema presentado."
   ]
  },
  {
   "cell_type": "code",
   "execution_count": 9,
   "metadata": {},
   "outputs": [],
   "source": [
    "from generation import *\n",
    "\n",
    "r=rand.Random(b'DAA 2do problema')\n",
    "\n",
    "# Genera 100 casos\n",
    "for _ in range(100):\n",
    "    n=r.randint(3,50)\n",
    "    m=r.randint(n-1,(n*(n-1))/2)\n",
    "    q=r.randint(1,n*2)\n",
    "\n",
    "    p_in=RandomProblemInput(n,m,q,seed=r.random())\n",
    "\n",
    "    # Comprueba cada resultado de cada consulta dada una entrada con ambas soluciones\n",
    "    for brute,smart in zip(brute_solve(p_in),solve(p_in)):\n",
    "        assert brute==smart, f'Brute: {brute} and Smart: {smart}'"
   ]
  }
 ],
 "metadata": {
  "kernelspec": {
   "display_name": "Python 3.11.2 64-bit",
   "language": "python",
   "name": "python3"
  },
  "language_info": {
   "codemirror_mode": {
    "name": "ipython",
    "version": 3
   },
   "file_extension": ".py",
   "mimetype": "text/x-python",
   "name": "python",
   "nbconvert_exporter": "python",
   "pygments_lexer": "ipython3",
   "version": "3.11.2"
  },
  "orig_nbformat": 4,
  "vscode": {
   "interpreter": {
    "hash": "5238573367df39f7286bb46f9ff5f08f63a01a80960060ce41e3c79b190280fa"
   }
  }
 },
 "nbformat": 4,
 "nbformat_minor": 2
}
