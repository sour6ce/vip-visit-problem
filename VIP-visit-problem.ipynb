{
 "cells": [
  {
   "attachments": {},
   "cell_type": "markdown",
   "metadata": {},
   "source": [
    "# Segundo problema de DAA:Lázaro presidente del PCC\n",
    "*Equipo: pss pss | Gabriel Hernández Rodríguez C411*"
   ]
  },
  {
   "attachments": {},
   "cell_type": "markdown",
   "metadata": {},
   "source": [
    "## Texto Original\n"
   ]
  },
  {
   "cell_type": "markdown",
   "metadata": {},
   "source": [
    "\n",
    "Han pasado 20 años desde que Lázaro se graduó de Ciencias de la Computación (haciendo una muy buena tesis) y las vueltas de la vida lo llevaron a convertirse en el presidente del Partido Comunista de Cuba. Una de sus muchas responsabilidades consiste en visitar zonas remotas. En esta ocasión debe visitar una ciudad campestre de Pinar del Río.\n",
    "\n",
    "También han pasado 20 años desde que Marié consiguió su título en MATCOM. Tras años de viaje por las grandes metrópolis del mundo, en algún punto decidió que prefería vivir una vida tranquila, aislada de la urbanización, en una tranquila ciudad de Pinar del Río. Las vueltas de la vida quisieron que precisamente Marié fuera la única universitaria habitando la ciudad que Lázaro se dispone a visitar.\n",
    "\n",
    "Los habitantes de la zona entraron en pánico ante la visita de una figura tan importante y decidieron reparar las calles de la ciudad por las que transitaría Lázaro. El problema está en que nadie sabía qué ruta tomaría el presidente y decidieron pedirle ayuda a Marié.\n",
    "\n",
    "La ciudad tiene $n$ puntos importantes, unidos entre sí por calles cuyos tamaños se conoce. Se sabe que Lázaro comenzará en alguno de esos puntos ($s$) y terminará el viaje en otro ($t$). Los ciudadanos quieren saber, para cada par $<s,t>$, cuántas calles participan en algún camino de distancia mínima entre $s$ y $t$."
   ]
  },
  {
   "attachments": {},
   "cell_type": "markdown",
   "metadata": {},
   "source": [
    "## Orientación Concreta\n"
   ]
  },
  {
   "cell_type": "markdown",
   "metadata": {},
   "source": [
    "\n",
    "Dado un grafo $G=<V,E>$, una función de peso $w(e)$ con dominio $E \\rightarrow R$ y una serie de consultas $Q$ de la forma $<s,t>$. Determinar para cada consulta la cantidad de aristas que pertenecen a al menos un camino mínimo de $s$ a $t$."
   ]
  },
  {
   "attachments": {},
   "cell_type": "markdown",
   "metadata": {},
   "source": [
    "## Solución Propuesta"
   ]
  },
  {
   "attachments": {},
   "cell_type": "markdown",
   "metadata": {},
   "source": [
    "\n",
    "### Resumen\n"
   ]
  },
  {
   "cell_type": "markdown",
   "metadata": {},
   "source": [
    "\n",
    "La solución propuesta consiste en contar el número de aristas que forman parte del camino mínimo entre dos nodos dados en un grafo no dirigido, siguiendo los siguientes pasos:\n",
    "1. Calcular las distancias mínimas utilizando el algoritmo de Dijkstra o Floyd-Warshall, dependiendo de la densidad del grafo.\n",
    "2. Comprobar las condiciones de las aristas para determinar si forman parte del camino mínimo.\n",
    "3. Recorrer todas las aristas del grafo y contar las que cumplen las condiciones anteriores.\n"
   ]
  },
  {
   "attachments": {},
   "cell_type": "markdown",
   "metadata": {},
   "source": [
    "\n",
    "### Detalle\n"
   ]
  },
  {
   "cell_type": "markdown",
   "metadata": {},
   "source": [
    "\n",
    "Para resolver el problema de contar el número de aristas que forman parte del camino mínimo entre dos nodos $s$ y $t$ en un grafo no dirigido $G=<V,E>$ con función de peso $w$, se puede seguir el siguiente procedimiento:\n",
    "\n",
    "1. Cálculo de distancias mínimas: Para comprobar si una arista forma parte del camino mínimo, es necesario calcular la distancia mínima entre dos nodos cualesquiera del grafo. Para ello se utiliza el algoritmo de Dijkstra o el de Floyd-Warshall, dependiendo de la densidad del grafo.\n",
    "\n",
    "- Algoritmo de Dijkstra: Este algoritmo es preferible para grafos dispersos, ya que tiene una complejidad temporal de $O((|V|+|E|)log|V|)$.\n",
    "\n",
    "- Algoritmo de Floyd-Warshall: Este algoritmo es preferible para grafos densos, ya que tiene una complejidad temporal de O(|V|^3).\n",
    "\n",
    "2. Comprobación de las condiciones de las aristas: Una vez que se han calculado las distancias mínimas entre todos los pares de nodos, se pueden comprobar las siguientes condiciones para cada arista:\n",
    "\n",
    "- Si $d(s,u)+w(e)+d(v,t)=d(s,t)$, entonces la arista $e$ forma parte del camino mínimo de $s$ a $t$.\n",
    "\n",
    "    Dados dos nodos $s$ y $t$ de un grafo no dirigido $G=<V,E>$ con función de peso $w$ y una arista $e={u,v}$ y sea $d(a,b)$ la distancia mínima entre dos nodos $a$ y $b$ del grafo G. Si: $d(s,u)+w(e)+d(v,t)=d(s,t)$ entonces se toma $P_1=<s,w_1,...,w_n,u>$ un camino de distancia mínima desde $s$ hasta $u$ y un camino $P_2=<v,z_1,...,z_n,>$ de distancia mínima desde $v$ hasta $t$ entonces el camino $P'=<s,w_1,...,w_n,u,v,z_1,...,z_n,t>$ es un camino de distancia $d(s,t)$ y por tanto un camino de distancia mínima de $s$ a $t$ donde la arista $e$ está incluida.\n",
    "\n",
    "- Del mismo modo, si $d(s,v)+w(e)+d(u,t)=d(s,t)$, entonces la arista $e$ también forma parte del camino mínimo. Se puede demostrar de forma análoga a la anterior.\n",
    "\n",
    "1. Recuento de aristas: Por último, se recorren todas las aristas del grafo y se cuentan las que cumplen alguna de las condiciones anteriores. El recuento total proporciona el número de aristas que forman parte del camino mínimo entre $s$ y $t$.\n",
    "\n",
    "Para calcular el valor de la función $d$, se puede utilizar una matriz con los valores almacenados previamente. En grafos más densos, la complejidad temporal del algoritmo de Dijkstra es peor que la del algoritmo de Floyd-Warshall. La complejidad temporal de una implementación clásica de Dijkstra es:\n",
    "$$O((|V|+|E|)log|V|)$$\n",
    "Si se utiliza para calcular la distancia de todos los nodos hacia todos los nodos, entonces la complejidad temporal es:\n",
    "$$O((|V|+|E|)|V|log|V|)$$\n",
    "En caso de que se ejecutara sobre un grafo denso donde $|E|=O(|V|^2)$, entonces el cálculo de distancia pasa a ser:\n",
    "$$O((|V|+|V|^2)|V|log|V|)=O(|V|^3)log|V|$$\n",
    "Por otra parte, la complejidad temporal del algoritmo de Floyd-Warshall es $O(|V|^3)$. Si se evalúa bajo qué condiciones la complejidad de Dijkstra es peor que la de Floyd-Warshall, se puede determinar el punto en que sea preferible cambiar de algoritmo. La condición se cumple si:\n",
    "$$|E| > |V|(\\frac{|V|}{log|V|}-1)$$\n",
    "Entonces, si se cumple esta condición se utiliza el algoritmo de Floyd-Warshall para calcular las distancias entre los nodos; en otro caso, se utiliza el algoritmo de Dijkstra."
   ]
  },
  {
   "attachments": {},
   "cell_type": "markdown",
   "metadata": {},
   "source": [
    "### Código"
   ]
  },
  {
   "cell_type": "code",
   "execution_count": 8,
   "metadata": {},
   "outputs": [],
   "source": [
    "# Aquí está todo el código ajeno a las soluciones\n",
    "from common import *"
   ]
  },
  {
   "cell_type": "code",
   "execution_count": 14,
   "metadata": {},
   "outputs": [],
   "source": [
    "# Código de Solución Propuesta\n",
    "\n",
    "def solve(p_in:ProblemInput) -> List[int]:\n",
    "    # La estructura inicial del grafo es de lista de aristas.\n",
    "    #\n",
    "    # Construye la matriz A tal que A_i,j guarde el peso de la\n",
    "    # arista entre i y j o cero si esta no existe.\n",
    "    #\n",
    "    # Complejidad temporal: O(|E|)\n",
    "    p_in.calculate_matrix()\n",
    "\n",
    "    # Calcula la matriz de distancias entre los nodos usando el\n",
    "    # algoritmo de Floyd-Warshall.\n",
    "    #\n",
    "    # Complejidad temporal: O(|V|^3)\n",
    "    d=p_in.calculate_distances()\n",
    "\n",
    "    r=[]\n",
    "\n",
    "    # Se procesa cada consulta de forma independiente. En cada consulta\n",
    "    # se evalúa cada arista del grafo si pertenece a un camino mínimo.\n",
    "    #\n",
    "    # Complejidad temporal: O(q*|E|)\n",
    "    for s,t in p_in.queries:\n",
    "        c_e=0\n",
    "        for e in p_in.edge_list:\n",
    "            # Una arista e={u,v} pertenece a un camino mínimo si y solo si\n",
    "            # d(s,u)+w(e)+d(v,t)=d(s,t) ó d(s,v)+w(e)+d(u,t)=d(s,t). Donde\n",
    "            # d(i,j) se define como la distancia mínima desde el nodo i hasta\n",
    "            # el nodo j y w(e) se define como el peso de la arista e.\n",
    "\n",
    "            # Primera Condición\n",
    "            if d[s][e[0]]+e[2]+d[e[1]][t]==d[s][t]:\n",
    "                c_e+=1\n",
    "                \n",
    "            # Segunda Condición\n",
    "            if d[s][e[1]]+e[2]+d[e[0]][t]==d[s][t]:\n",
    "                c_e+=1\n",
    "        r.append(c_e)\n",
    "\n",
    "    return r"
   ]
  },
  {
   "cell_type": "code",
   "execution_count": 15,
   "metadata": {},
   "outputs": [
    {
     "data": {
      "text/plain": [
       "array([[  0.,   2.,   6.,  10.,  42.,  70.],\n",
       "       [  2.,   0.,   8.,   8.,  40.,  72.],\n",
       "       [  6.,   8.,   0.,  16.,  48.,  64.],\n",
       "       [ 10.,   8.,  16.,   0.,  32.,  80.],\n",
       "       [ 42.,  40.,  48.,  32.,   0., 112.],\n",
       "       [ 70.,  72.,  64.,  80., 112.,   0.]])"
      ]
     },
     "execution_count": 15,
     "metadata": {},
     "output_type": "execute_result"
    }
   ],
   "source": [
    "# Pruebas rápidas del código de la solución\n",
    "\n",
    "# Test1\n",
    "p_in = ProblemInput([\n",
    "    Edge(0, 1, 2),\n",
    "    Edge(0, 2, 2),\n",
    "    Edge(1, 3, 2),\n",
    "    Edge(2, 3, 2),\n",
    "    Edge(3, 4, 2),\n",
    "    Edge(2, 5, 2)\n",
    "], [\n",
    "    Query(0, 3),\n",
    "    Query(5, 1),\n",
    "    Query(4, 5)\n",
    "])\n",
    "\n",
    "r = solve(p_in)\n",
    "assert r[0] == 4\n",
    "assert r[1] == 5\n",
    "assert r[2] == 3\n",
    "#\n",
    "\n",
    "# Test2\n",
    "p_in = ProblemInput([\n",
    "    Edge(0, 1, 2),\n",
    "    Edge(0, 2, 6),\n",
    "    Edge(1, 3, 8),\n",
    "    Edge(2, 3, 16),\n",
    "    Edge(3, 4, 32),\n",
    "    Edge(2, 5, 64)\n",
    "], [\n",
    "    Query(0, 3),\n",
    "    Query(5, 1),\n",
    "    Query(4, 5)\n",
    "])\n",
    "r = solve(p_in)\n",
    "assert r[0] == 2\n",
    "assert r[1] == 3\n",
    "assert r[2] == 6\n",
    "#\n",
    "\n",
    "p_in.calculate_distances()\n"
   ]
  }
 ],
 "metadata": {
  "kernelspec": {
   "display_name": "Python 3.11.2 64-bit",
   "language": "python",
   "name": "python3"
  },
  "language_info": {
   "codemirror_mode": {
    "name": "ipython",
    "version": 3
   },
   "file_extension": ".py",
   "mimetype": "text/x-python",
   "name": "python",
   "nbconvert_exporter": "python",
   "pygments_lexer": "ipython3",
   "version": "3.11.2"
  },
  "orig_nbformat": 4,
  "vscode": {
   "interpreter": {
    "hash": "5238573367df39f7286bb46f9ff5f08f63a01a80960060ce41e3c79b190280fa"
   }
  }
 },
 "nbformat": 4,
 "nbformat_minor": 2
}
